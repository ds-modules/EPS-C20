{
 "cells": [
  {
   "cell_type": "markdown",
   "metadata": {},
   "source": [
    "<div style='background-image: url(\"../share/Aerial_view_LLNL.jpg\") ; padding: 0px ; background-size: cover ; border-radius: 15px ; height: 250px; background-position: 0% 80%'>\n",
    "    <div style=\"float: center ; margin: 50px ; padding: 20px ; background: rgba(255 , 255 , 255 , 0.8) ; width: 50% ; height: 150px\">\n",
    "        <div style=\"position: relative ; top: 50% ; transform: translatey(-50%)\">\n",
    "            <div style=\"font-size: xx-large ; font-weight: 900 ; color: rgba(0 , 0 , 0 , 0.9) ; line-height: 100%\">Notebook 2:</div>\n",
    "            <div style=\"font-size: x-large ; padding-top: 20px ; color: rgba(0 , 0 , 0 , 0.7)\">Visualizing Earthquake Magnitudes: <br><br> Amplitude and Distance</div>\n",
    "            <div style=\"font-size: large ; padding-top: 20px ; color: rgba(0 , 0 , 0 , 0.7)\">2014 South Napa Earthquake.</div>\n",
    "            <div style=\"font-size: medium ; padding-top: 20px ; color: rgba(0 , 0 , 0 , 0.7)\">Estimated Time: 30 minutes.</div>\n",
    "        </div>\n",
    "    </div>\n",
    "</div>\n",
    "\n"
   ]
  },
  {
   "cell_type": "markdown",
   "metadata": {},
   "source": [
    "This notebook aims to help you explore seismic data resulting from an earthquake.       \n",
    "Primarily to visualise the idea of amplitude and distance to help make seismic magnitudes more intuitive.       \n",
    "In the current example we will explore the 2014 South Napa earthquake. Though, you are welcome to play and explore others.\n",
    "\n",
    "Topics Covered:\n",
    "- Obtaining Data through ObsPy\n",
    "- Plotting Earthquake data with Matplotlib\n",
    "- Querying Event Data"
   ]
  },
  {
   "cell_type": "markdown",
   "metadata": {},
   "source": [
    "## Visualizing Earthquake Magnitudes Demo\n",
    "\n",
    "Now that you have learned some Python basics, you can use your skills to analyze some data. \n",
    "\n",
    "This notebook will provide some exercises using [Obspy](https://github.com/obspy/obspy/wiki), a Python library used to visualize and analyze seimsographic data."
   ]
  },
  {
   "cell_type": "code",
   "execution_count": null,
   "metadata": {},
   "outputs": [],
   "source": [
    "%%capture\n",
    "!pip install --no-cache-dir obspy==1.0.3\n",
    "!pip install matplotlib==2.0.0"
   ]
  },
  {
   "cell_type": "code",
   "execution_count": null,
   "metadata": {},
   "outputs": [],
   "source": [
    "# These import a few functions and set the figure size and plot styles for our visualizations\n",
    "\n",
    "%matplotlib inline\n",
    "from __future__ import print_function\n",
    "import matplotlib.pyplot as plt\n",
    "import warnings\n",
    "warnings.filterwarnings(\"ignore\")\n",
    "plt.style.use('ggplot')\n",
    "plt.rcParams['figure.figsize'] = 16, 10\n",
    "\n",
    "\n",
    "from eps_tools import *"
   ]
  },
  {
   "cell_type": "markdown",
   "metadata": {},
   "source": [
    "### Event Data\n",
    "\n",
    "The first step is to find the event. Below, we import the Obspy Client which lets us query for earthquake events. Then we get the UTC date and time for the 2014 South Napa earthquake happened (August 24th, 2014). We are getting the events with at least a magnitude of 6.0. After, we are printing the events in our resulting catalog, with a local projection centered on the San Francisco Bay Area."
   ]
  },
  {
   "cell_type": "code",
   "execution_count": null,
   "metadata": {},
   "outputs": [],
   "source": [
    "import obspy\n",
    "from obspy.clients.fdsn import Client\n",
    "\n",
    "client = Client(\"USGS\")\n",
    "t = obspy.UTCDateTime(\"2014-08-24T10:20:44.0\")  # South Napa earthquake\n",
    "cat = client.get_events(starttime=t - 100, endtime=t + 3600,\n",
    "                        minmagnitude=6)\n",
    "\n",
    "# Print and plot event.\n",
    "print(cat)\n",
    "cat.plot(projection=\"local\", resolution=\"i\");\n",
    "cat.plot().show()"
   ]
  },
  {
   "cell_type": "markdown",
   "metadata": {},
   "source": [
    "As you can see above, the map is centered on Santa Rosa, showing a 6.0 magnitude event occuring.\n",
    "\n",
    "---"
   ]
  },
  {
   "cell_type": "markdown",
   "metadata": {},
   "source": [
    "### Waveform and Station Data\n",
    "\n",
    "#### Mass Downloader\n",
    "\n",
    "ObsPy has a submodule to help download data, called mass downloader. It attempts to offer an API for how seismologists would like to download data. It works in three steps:\n",
    "\n",
    "1. Define Geographical Domain\n",
    "2. Define Other Restrictions\n",
    "3. Launch Download"
   ]
  },
  {
   "cell_type": "markdown",
   "metadata": {},
   "source": [
    "#### Exercise\n",
    "\n",
    "\n",
    "##### Part A - Download\n",
    "\n",
    "Use the mass downloader to download data for a small (there are a lot of stations in this region) geographical region (a circular region with a radius of 1 degree is an example), including the station information, with the mass downloader. Download from 2 minutes before the event to 10 minutes after it and download only `BHZ` (Broadband) channels.\n",
    "\n",
    "First we'll import the libraries needed to download:"
   ]
  },
  {
   "cell_type": "code",
   "execution_count": null,
   "metadata": {},
   "outputs": [],
   "source": [
    "import obspy\n",
    "from obspy.clients.fdsn.mass_downloader import CircularDomain, \\\n",
    "    Restrictions, MassDownloader"
   ]
  },
  {
   "cell_type": "markdown",
   "metadata": {},
   "source": [
    "The cell below will download:"
   ]
  },
  {
   "cell_type": "code",
   "execution_count": null,
   "metadata": {},
   "outputs": [],
   "source": [
    "# download_data is in the eps_tools file\n",
    "\n",
    "download_data(downloaded = True)"
   ]
  },
  {
   "cell_type": "markdown",
   "metadata": {},
   "source": [
    "##### Part B - Plot Stations\n",
    "\n",
    "Plot the stations and the event in a single map. \n",
    "The code below reads through the stations file and reads the inventory at each file name. Then the inventory is plotted with a local projection and then a title is added to the map."
   ]
  },
  {
   "cell_type": "code",
   "execution_count": null,
   "metadata": {},
   "outputs": [],
   "source": [
    "import glob\n",
    "\n",
    "def plot_stations():\n",
    "    for i,filename in enumerate(glob.glob(\"stations/*.xml\")):\n",
    "        if i==0:\n",
    "            inv = obspy.read_inventory(filename)\n",
    "        else:\n",
    "            inv+=obspy.read_inventory(filename)\n",
    "\n",
    "    fig = inv.plot(projection=\"local\", resolution='i',show=False, size=70)\n",
    "    fig = cat.plot(fig=fig,projection=\"local\", resolution='i',show=False, title='Stations Available for South Napa Quake');\n",
    "    plt.show()\n",
    "    \n",
    "plot_stations()"
   ]
  },
  {
   "cell_type": "markdown",
   "metadata": {},
   "source": [
    "##### Part C - Process Data"
   ]
  },
  {
   "cell_type": "markdown",
   "metadata": {},
   "source": [
    "This will filter the data and check that there are no gaps etc.     \n",
    "Don't worry about this."
   ]
  },
  {
   "cell_type": "code",
   "execution_count": null,
   "metadata": {
    "scrolled": false
   },
   "outputs": [],
   "source": [
    "import glob\n",
    "import os\n",
    "import numpy as np\n",
    "\n",
    "# all the stations' data\n",
    "st = load_data()"
   ]
  },
  {
   "cell_type": "code",
   "execution_count": null,
   "metadata": {},
   "outputs": [],
   "source": [
    "import pprint\n",
    "pprint.pprint(\"\"\"Possible stations below.\n",
    "Stations (36):\n",
    "G01D (WHOI OBS ID S85)\n",
    "G03D (WHOI OBS ID T111)\n",
    "G05D (WHOI OBS ID T112)\n",
    "G21D (WHOI OBS ID T106)\n",
    "G33D (SIO OBS ID G33D)\n",
    "M16D (SIO OBS ID M16D)\n",
    "BDM (Black Diamond Mines Park, Antioch, CA, USA)\n",
    "BKS (Byerly Seismographic Vault, Berkeley, CA, USA)\n",
    "CMB (Columbia College, Columbia, CA, USA)\n",
    "FARB (Farallon Islands, CA, USA)\n",
    "HATC (Hat Creek Radio Astronomy Obs., Cassel, CA, USA)\n",
    "HELL (Rademacher Property, Miramonte, CA, USA)\n",
    "HOPS (Hopland Research and Extension Center, Hopland, CA)\n",
    "JCC (Jacoby Creek, Bayside, CA, USA)\n",
    "MOD (Modoc Plateau, CA, USA)\n",
    "ORV (Oroville Dam, Oroville, CA, USA)\n",
    "RAMR (Ramage Ranch, Paso Robles, CA, USA)\n",
    "SAO (San Andreas Geophysical Obs., Hollister, CA, USA)\n",
    "SUTB (Sutter Buttes, CA, USA)\n",
    "THIS (South End of Cholame Valley, Shandon, CA, USA)\n",
    "WDC (Whiskeytown Dam, Whiskeytown, CA, USA)\n",
    "YBH (Yreka Blue Horn Mine, Yreka, CA, USA)\n",
    "LRL (Laurel Mtn)\n",
    "MLAC (Mammoth)\n",
    "MPP (Mcpherson Peak)\n",
    "OSI (Osito Audit: Castaic Lake)\n",
    "SCZ2 (Santa Cruz Island 2)\n",
    "SPG2 (Springville 2)\n",
    "NV31 (NVAR Array Site 31, Mina, NV, USA)\n",
    "K04D (Chiloquin, OR, USA)\n",
    "L02E (Cave Junction, OR, USA)\n",
    "M02C (Callahan, CA, USA)\n",
    "O02D (Mt. Diablo Meridian, CA, USA)\n",
    "DBO (Dodson Butte, OR, USA (UO CREST BB SMO))\n",
    "TPNV (Topopah Spring, Nevada, USA)\n",
    "GB281 (SIO OBS ID GB281))\"\"\")"
   ]
  },
  {
   "cell_type": "markdown",
   "metadata": {},
   "source": [
    "##### Part D - Choose stations and compare amplitudes"
   ]
  },
  {
   "cell_type": "markdown",
   "metadata": {},
   "source": [
    "**Exercise:** Pick three stations from the above plot.    \n",
    "\n",
    "       \n",
    "Try stations:     \n",
    "1) Roughly in a line and at different distances       \n",
    "2) Not in a line at the same distance"
   ]
  },
  {
   "cell_type": "code",
   "execution_count": null,
   "metadata": {},
   "outputs": [],
   "source": [
    "# Modify the station labels here before running the cell below this one\n",
    "StationA = 'BKS'\n",
    "StationB = 'DBO'\n",
    "StationC = 'MOD'\n",
    "\n",
    "Stations = [StationA,StationB,StationC]"
   ]
  },
  {
   "cell_type": "code",
   "execution_count": null,
   "metadata": {},
   "outputs": [],
   "source": [
    "plot_traces(Stations)"
   ]
  },
  {
   "cell_type": "markdown",
   "metadata": {},
   "source": []
  },
  {
   "cell_type": "markdown",
   "metadata": {},
   "source": [
    "Notebook developed by Alexander Robson, George Khalilieh\n",
    "\n",
    "Data Science Modules: http:/data.berkeley.edu/education/modules"
   ]
  }
 ],
 "metadata": {
  "anaconda-cloud": {},
  "kernelspec": {
   "display_name": "Python [Root]",
   "language": "python",
   "name": "Python [Root]"
  },
  "language_info": {
   "codemirror_mode": {
    "name": "ipython",
    "version": 3
   },
   "file_extension": ".py",
   "mimetype": "text/x-python",
   "name": "python",
   "nbconvert_exporter": "python",
   "pygments_lexer": "ipython3",
   "version": "3.5.2"
  },
  "toc": {
   "nav_menu": {
    "height": "142px",
    "width": "252px"
   },
   "navigate_menu": true,
   "number_sections": true,
   "sideBar": true,
   "threshold": 4,
   "toc_cell": false,
   "toc_section_display": "block",
   "toc_window_display": false
  }
 },
 "nbformat": 4,
 "nbformat_minor": 2
}
